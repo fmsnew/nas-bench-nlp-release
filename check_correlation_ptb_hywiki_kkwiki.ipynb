{
 "cells": [
  {
   "cell_type": "code",
   "execution_count": 41,
   "metadata": {},
   "outputs": [],
   "source": [
    "import torch\n",
    "import torch.nn\n",
    "import torch.optim\n",
    "import torch.utils.data\n",
    "import torch.nn.functional as F\n",
    "from splitcross import SplitCrossEntropyLoss\n",
    "\n",
    "import numpy as np\n",
    "import networkx as nx\n",
    "import math\n",
    "import json\n",
    "import time\n",
    "\n",
    "import data\n",
    "import os\n",
    "from utils import batchify\n",
    "from argparse import Namespace\n",
    "from model import AWDRNNModel\n",
    "from train import train, evaluate\n",
    "import datetime"
   ]
  },
  {
   "cell_type": "code",
   "execution_count": 42,
   "metadata": {},
   "outputs": [],
   "source": [
    "import matplotlib.pyplot as plt\n",
    "%matplotlib inline"
   ]
  },
  {
   "cell_type": "code",
   "execution_count": 2,
   "metadata": {},
   "outputs": [],
   "source": [
    "ptb_stats = []\n",
    "for fn in os.listdir('train_logs_single_run'):\n",
    "    if fn.endswith('.json'):\n",
    "        ptb_stats.append(json.load(open(os.path.join('train_logs_single_run', fn), 'r')))"
   ]
  },
  {
   "cell_type": "code",
   "execution_count": 8,
   "metadata": {},
   "outputs": [],
   "source": [
    "ptb_final_test_ppl = np.array([x['test_losses'][-1] if len(x['test_losses']) > 0 and not np.isnan(x['test_losses'][-1]) else np.inf for x in ptb_stats])"
   ]
  },
  {
   "cell_type": "code",
   "execution_count": 5,
   "metadata": {},
   "outputs": [],
   "source": [
    "hywiki_stats = []\n",
    "for fn in os.listdir('tmp/hywiki_logs/'):\n",
    "    if fn.endswith('.json'):\n",
    "        hywiki_stats.append(json.load(open(os.path.join('tmp/hywiki_logs/', fn), 'r')))"
   ]
  },
  {
   "cell_type": "code",
   "execution_count": 14,
   "metadata": {},
   "outputs": [],
   "source": [
    "hywiki_stats = sorted(hywiki_stats, key=lambda x: x['recepie_id'])"
   ]
  },
  {
   "cell_type": "code",
   "execution_count": 15,
   "metadata": {},
   "outputs": [],
   "source": [
    "hywiki_final_test_ppl = np.array([x['test_losses'][-1] if len(x['test_losses']) > 0 and not np.isnan(x['test_losses'][-1]) else np.inf for x in hywiki_stats])"
   ]
  },
  {
   "cell_type": "code",
   "execution_count": 26,
   "metadata": {},
   "outputs": [
    {
     "data": {
      "text/plain": [
       "array([  3.58153327,   3.63988121,   3.66681627, 328.25798373,\n",
       "         3.84075944,   3.78854312,          inf,   3.79394799,\n",
       "         3.84597068,   3.82153153,   3.71622498,          inf,\n",
       "         4.0374107 ,   3.74345235,   5.08052627,   3.81947005,\n",
       "         3.81764669,   3.79271558,   3.81662899,   3.79745759,\n",
       "         3.79137214,   3.80704864,   3.89652049,          inf,\n",
       "         3.89941072,   5.0007672 ,   3.83676524,          inf,\n",
       "         3.87751732,   3.92219339,          inf,   3.98729599,\n",
       "         3.86660992,   3.85565838,   3.82383047,   3.93804714,\n",
       "         3.82671969,   3.70756401,          inf,          inf,\n",
       "         4.051211  ,   3.85569249,   3.88515157,          inf,\n",
       "                inf,          inf,          inf,   3.9044146 ,\n",
       "                inf,   3.84932109])"
      ]
     },
     "execution_count": 26,
     "metadata": {},
     "output_type": "execute_result"
    }
   ],
   "source": [
    "hywiki_final_test_ppl"
   ]
  },
  {
   "cell_type": "code",
   "execution_count": 18,
   "metadata": {},
   "outputs": [],
   "source": [
    "top_ptb_final_test_ppl = ptb_final_test_ppl[np.argsort(ptb_final_test_ppl)[:len(hywiki_stats)]]"
   ]
  },
  {
   "cell_type": "code",
   "execution_count": 63,
   "metadata": {},
   "outputs": [
    {
     "data": {
      "image/png": "[encoded data removed]",
      "text/plain": [
       "<Figure size 360x360 with 1 Axes>"
      ]
     },
     "metadata": {},
     "output_type": "display_data"
    }
   ],
   "source": [
    "plt.figure(figsize=(5, 5))\n",
    "plt.scatter(top_ptb_final_test_ppl, hywiki_final_test_ppl)\n",
    "plt.scatter([top_ptb_final_test_ppl[0]], [hywiki_final_test_ppl[0]], color='red')\n",
    "sub_inds = np.where(hywiki_final_test_ppl > 4.3)[0]\n",
    "plt.scatter(top_ptb_final_test_ppl[sub_inds], [4.3]*len(sub_inds), color='k', marker='x')\n",
    "plt.xlim([4.35, 4.6])\n",
    "plt.ylim([3.4, 4.3])\n",
    "len(sub_inds)\n",
    "plt.xlabel('ptb', fontsize=14)\n",
    "plt.ylabel('hywiki', fontsize=14)\n",
    "plt.savefig('data/figures/ptb_vs_hywiki.png', dpi=300, bbox_inches='tight')"
   ]
  },
  {
   "cell_type": "code",
   "execution_count": null,
   "metadata": {},
   "outputs": [],
   "source": []
  },
  {
   "cell_type": "code",
   "execution_count": 43,
   "metadata": {},
   "outputs": [],
   "source": [
    "kkwiki_stats = []\n",
    "for fn in os.listdir('tmp/kkwiki_logs/'):\n",
    "    if fn.endswith('.json'):\n",
    "        kkwiki_stats.append(json.load(open(os.path.join('tmp/kkwiki_logs/', fn), 'r')))"
   ]
  },
  {
   "cell_type": "code",
   "execution_count": 44,
   "metadata": {},
   "outputs": [],
   "source": [
    "kkwiki_stats = sorted(kkwiki_stats, key=lambda x: x['recepie_id'])"
   ]
  },
  {
   "cell_type": "code",
   "execution_count": 45,
   "metadata": {},
   "outputs": [],
   "source": [
    "kkwiki_final_test_ppl = np.array([x['test_losses'][-1] if len(x['test_losses']) > 0 and not np.isnan(x['test_losses'][-1]) else np.inf for x in kkwiki_stats])"
   ]
  },
  {
   "cell_type": "code",
   "execution_count": 46,
   "metadata": {},
   "outputs": [
    {
     "data": {
      "text/plain": [
       "array([  2.95665407,   3.01600802,   3.04915246, 233.62200599,\n",
       "         3.22237452,   3.13802612,          inf,   3.17225197,\n",
       "         3.21571422,   3.14932906,   3.09725798,          inf,\n",
       "         3.28911221,   3.1189393 ,   4.96721081,   3.22610784,\n",
       "         3.20583686,   3.16551064,   3.19365385,   3.17038154,\n",
       "         3.18287198,   3.16336851,   3.30661264,          inf,\n",
       "         3.2745826 ,   4.93869042,   3.20279669,          inf,\n",
       "         3.24551587,   3.25996716,          inf,   3.33332233,\n",
       "         3.25180505,   3.21772269,   3.18234109,   3.31421734,\n",
       "         3.18746178,   3.09322663,          inf,          inf,\n",
       "         3.46104902,   3.24818325,   3.26825061,          inf,\n",
       "         3.34067454,          inf,          inf,   3.25722627,\n",
       "                inf,   3.24361809])"
      ]
     },
     "execution_count": 46,
     "metadata": {},
     "output_type": "execute_result"
    }
   ],
   "source": [
    "kkwiki_final_test_ppl"
   ]
  },
  {
   "cell_type": "code",
   "execution_count": 64,
   "metadata": {},
   "outputs": [
    {
     "data": {
      "image/png": "[encoded data removed]",
      "text/plain": [
       "<Figure size 360x360 with 1 Axes>"
      ]
     },
     "metadata": {},
     "output_type": "display_data"
    }
   ],
   "source": [
    "plt.figure(figsize=(5, 5))\n",
    "plt.scatter(top_ptb_final_test_ppl, kkwiki_final_test_ppl)\n",
    "plt.scatter([top_ptb_final_test_ppl[0]], [kkwiki_final_test_ppl[0]], color='red')\n",
    "sub_inds = np.where(kkwiki_final_test_ppl > 3.6)[0]\n",
    "plt.scatter(top_ptb_final_test_ppl[sub_inds], [3.6]*len(sub_inds), color='k', marker='x')\n",
    "plt.xlim([4.3, 4.6])\n",
    "plt.ylim([2.8, 3.6])\n",
    "len(sub_inds)\n",
    "plt.xlabel('ptb', fontsize=14)\n",
    "plt.ylabel('kkwiki', fontsize=14)\n",
    "plt.savefig('data/figures/ptb_vs_kkwiki.png', dpi=300, bbox_inches='tight')"
   ]
  },
  {
   "cell_type": "code",
   "execution_count": 59,
   "metadata": {},
   "outputs": [
    {
     "data": {
      "text/plain": [
       "Text(0, 0.5, 'kkwiki perplexity')"
      ]
     },
     "execution_count": 59,
     "metadata": {},
     "output_type": "execute_result"
    },
    {
     "data": {
      "image/png": "[encoded data removed]",
      "text/plain": [
       "<Figure size 360x360 with 1 Axes>"
      ]
     },
     "metadata": {},
     "output_type": "display_data"
    }
   ],
   "source": [
    "plt.figure(figsize=(5, 5))\n",
    "plt.scatter(hywiki_final_test_ppl, kkwiki_final_test_ppl)\n",
    "plt.scatter([hywiki_final_test_ppl[0]], [kkwiki_final_test_ppl[0]], color='red')\n",
    "sub_inds = np.where(kkwiki_final_test_ppl > 3.6)[0]\n",
    "plt.scatter(top_ptb_final_test_ppl[sub_inds], [3.6]*len(sub_inds), color='k', marker='x')\n",
    "plt.xlim([3.4, 4.3])\n",
    "plt.ylim([2.8, 3.6])\n",
    "len(sub_inds)\n",
    "plt.xlabel('ptb perplexity', fontsize=14)\n",
    "plt.ylabel('kkwiki perplexity', fontsize=14)"
   ]
  },
  {
   "cell_type": "code",
   "execution_count": null,
   "metadata": {},
   "outputs": [],
   "source": []
  }
 ],
 "metadata": {
  "kernelspec": {
   "display_name": "Python 3",
   "language": "python",
   "name": "python3"
  },
  "language_info": {
   "codemirror_mode": {
    "name": "ipython",
    "version": 3
   },
   "file_extension": ".py",
   "mimetype": "text/x-python",
   "name": "python",
   "nbconvert_exporter": "python",
   "pygments_lexer": "ipython3",
   "version": "3.6.10"
  }
 },
 "nbformat": 4,
 "nbformat_minor": 2
}
